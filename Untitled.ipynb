{
 "cells": [
  {
   "cell_type": "markdown",
   "metadata": {},
   "source": [
    " # Spotipy\n",
    " \n",
    " ### Utilizing Spotify's API \"spotipy\" this notebook will create a connection to the users Spotify account and then go through the data architecture followed by so analytics."
   ]
  },
  {
   "cell_type": "code",
   "execution_count": 1,
   "metadata": {},
   "outputs": [],
   "source": [
    "import spotipy\n",
    "from spotipy.oauth2 import SpotifyClientCredentials\n",
    "import pandas as pd\n"
   ]
  },
  {
   "cell_type": "code",
   "execution_count": 2,
   "metadata": {},
   "outputs": [],
   "source": [
    "#User public key\n",
    "client_id = '5572530ac0664df2b34373f3f41db89b'\n",
    "# User private key\n",
    "client_secret = '15734ca0cac44e3c8ee4cc238bc895cf'\n",
    "\n",
    "# A set of strings describing playlist URIs \n",
    "uri_playL_list = ['spotify:user:22okarqslvrgo5yvlkkfvr64a:playlist:37i9dQZF1DXdgz8ZB7c2CP', \n",
    "                  'spotify:user:22okarqslvrgo5yvlkkfvr64a:playlist:6tJ0eB80eKJtFDvK3pJ7H3',\n",
    "                  'spotify:user:22okarqslvrgo5yvlkkfvr64a:playlist:17resVfiqMumDlv5Ffmts6', \n",
    "                  'spotify:user:22okarqslvrgo5yvlkkfvr64a:playlist:4WRdMMQSDWPqkBlrt7iERG']"
   ]
  },
  {
   "cell_type": "code",
   "execution_count": 3,
   "metadata": {},
   "outputs": [],
   "source": [
    "client_credentials_manager = SpotifyClientCredentials(client_id, client_secret)\n",
    "sp = spotipy.Spotify(client_credentials_manager=client_credentials_manager)"
   ]
  },
  {
   "cell_type": "code",
   "execution_count": 5,
   "metadata": {},
   "outputs": [
    {
     "data": {
      "text/plain": [
       "'22okarqslvrgo5yvlkkfvr64a'"
      ]
     },
     "execution_count": 5,
     "metadata": {},
     "output_type": "execute_result"
    }
   ],
   "source": [
    "# Each element in 'uri_play_list' contains both a user and playlist uri  \n",
    "# 'username' stores the user uri from one of these elements\n",
    "username = uri_playL_list[0].split(':')[2]\n",
    "\n",
    "username"
   ]
  },
  {
   "cell_type": "code",
   "execution_count": null,
   "metadata": {},
   "outputs": [],
   "source": []
  }
 ],
 "metadata": {
  "kernelspec": {
   "display_name": "Python 3",
   "language": "python",
   "name": "python3"
  },
  "language_info": {
   "codemirror_mode": {
    "name": "ipython",
    "version": 3
   },
   "file_extension": ".py",
   "mimetype": "text/x-python",
   "name": "python",
   "nbconvert_exporter": "python",
   "pygments_lexer": "ipython3",
   "version": "3.7.1"
  }
 },
 "nbformat": 4,
 "nbformat_minor": 2
}
